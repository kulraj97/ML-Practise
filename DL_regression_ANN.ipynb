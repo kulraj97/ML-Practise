{
  "nbformat": 4,
  "nbformat_minor": 0,
  "metadata": {
    "colab": {
      "name": "DL_regression_ANN.ipynb",
      "provenance": [],
      "authorship_tag": "ABX9TyMd2xGozy8KTB6EhhsczGIV",
      "include_colab_link": true
    },
    "kernelspec": {
      "name": "python3",
      "display_name": "Python 3"
    },
    "language_info": {
      "name": "python"
    }
  },
  "cells": [
    {
      "cell_type": "markdown",
      "metadata": {
        "id": "view-in-github",
        "colab_type": "text"
      },
      "source": [
        "<a href=\"https://colab.research.google.com/github/kulraj97/ML-Practise/blob/main/DL_regression_ANN.ipynb\" target=\"_parent\"><img src=\"https://colab.research.google.com/assets/colab-badge.svg\" alt=\"Open In Colab\"/></a>"
      ]
    },
    {
      "cell_type": "code",
      "execution_count": 34,
      "metadata": {
        "id": "G6A5ocNPeIEQ"
      },
      "outputs": [],
      "source": [
        "import numpy as np\n",
        "import pandas as pd\n",
        "import matplotlib.pyplot as plt\n"
      ]
    },
    {
      "cell_type": "code",
      "source": [
        "from google.colab import drive\n",
        "drive.mount('/content/gdrive')"
      ],
      "metadata": {
        "id": "0K4pba73eSU1",
        "colab": {
          "base_uri": "https://localhost:8080/"
        },
        "outputId": "9cce5df6-5bc5-44a6-e3f0-8154f9995808"
      },
      "execution_count": 35,
      "outputs": [
        {
          "output_type": "stream",
          "name": "stdout",
          "text": [
            "Drive already mounted at /content/gdrive; to attempt to forcibly remount, call drive.mount(\"/content/gdrive\", force_remount=True).\n"
          ]
        }
      ]
    },
    {
      "cell_type": "code",
      "source": [
        "dt=pd.read_csv(\"/content/gdrive/MyDrive/Admission_Predict.csv\")"
      ],
      "metadata": {
        "id": "YBkrCcWNeTQ6"
      },
      "execution_count": 38,
      "outputs": []
    },
    {
      "cell_type": "code",
      "source": [
        "dt.head()"
      ],
      "metadata": {
        "colab": {
          "base_uri": "https://localhost:8080/",
          "height": 206
        },
        "id": "gFNTeIlYfHIx",
        "outputId": "160efcb8-2dff-4c73-9635-3b806493dc1f"
      },
      "execution_count": 39,
      "outputs": [
        {
          "output_type": "execute_result",
          "data": {
            "text/plain": [
              "   Serial No.  GRE Score  TOEFL Score  University Rating  SOP  LOR   CGPA  \\\n",
              "0           1        337          118                  4  4.5   4.5  9.65   \n",
              "1           2        324          107                  4  4.0   4.5  8.87   \n",
              "2           3        316          104                  3  3.0   3.5  8.00   \n",
              "3           4        322          110                  3  3.5   2.5  8.67   \n",
              "4           5        314          103                  2  2.0   3.0  8.21   \n",
              "\n",
              "   Research  Chance of Admit   \n",
              "0         1              0.92  \n",
              "1         1              0.76  \n",
              "2         1              0.72  \n",
              "3         1              0.80  \n",
              "4         0              0.65  "
            ],
            "text/html": [
              "\n",
              "  <div id=\"df-ca47460e-83d8-43cc-8c12-04f1aaf3ac1c\">\n",
              "    <div class=\"colab-df-container\">\n",
              "      <div>\n",
              "<style scoped>\n",
              "    .dataframe tbody tr th:only-of-type {\n",
              "        vertical-align: middle;\n",
              "    }\n",
              "\n",
              "    .dataframe tbody tr th {\n",
              "        vertical-align: top;\n",
              "    }\n",
              "\n",
              "    .dataframe thead th {\n",
              "        text-align: right;\n",
              "    }\n",
              "</style>\n",
              "<table border=\"1\" class=\"dataframe\">\n",
              "  <thead>\n",
              "    <tr style=\"text-align: right;\">\n",
              "      <th></th>\n",
              "      <th>Serial No.</th>\n",
              "      <th>GRE Score</th>\n",
              "      <th>TOEFL Score</th>\n",
              "      <th>University Rating</th>\n",
              "      <th>SOP</th>\n",
              "      <th>LOR</th>\n",
              "      <th>CGPA</th>\n",
              "      <th>Research</th>\n",
              "      <th>Chance of Admit</th>\n",
              "    </tr>\n",
              "  </thead>\n",
              "  <tbody>\n",
              "    <tr>\n",
              "      <th>0</th>\n",
              "      <td>1</td>\n",
              "      <td>337</td>\n",
              "      <td>118</td>\n",
              "      <td>4</td>\n",
              "      <td>4.5</td>\n",
              "      <td>4.5</td>\n",
              "      <td>9.65</td>\n",
              "      <td>1</td>\n",
              "      <td>0.92</td>\n",
              "    </tr>\n",
              "    <tr>\n",
              "      <th>1</th>\n",
              "      <td>2</td>\n",
              "      <td>324</td>\n",
              "      <td>107</td>\n",
              "      <td>4</td>\n",
              "      <td>4.0</td>\n",
              "      <td>4.5</td>\n",
              "      <td>8.87</td>\n",
              "      <td>1</td>\n",
              "      <td>0.76</td>\n",
              "    </tr>\n",
              "    <tr>\n",
              "      <th>2</th>\n",
              "      <td>3</td>\n",
              "      <td>316</td>\n",
              "      <td>104</td>\n",
              "      <td>3</td>\n",
              "      <td>3.0</td>\n",
              "      <td>3.5</td>\n",
              "      <td>8.00</td>\n",
              "      <td>1</td>\n",
              "      <td>0.72</td>\n",
              "    </tr>\n",
              "    <tr>\n",
              "      <th>3</th>\n",
              "      <td>4</td>\n",
              "      <td>322</td>\n",
              "      <td>110</td>\n",
              "      <td>3</td>\n",
              "      <td>3.5</td>\n",
              "      <td>2.5</td>\n",
              "      <td>8.67</td>\n",
              "      <td>1</td>\n",
              "      <td>0.80</td>\n",
              "    </tr>\n",
              "    <tr>\n",
              "      <th>4</th>\n",
              "      <td>5</td>\n",
              "      <td>314</td>\n",
              "      <td>103</td>\n",
              "      <td>2</td>\n",
              "      <td>2.0</td>\n",
              "      <td>3.0</td>\n",
              "      <td>8.21</td>\n",
              "      <td>0</td>\n",
              "      <td>0.65</td>\n",
              "    </tr>\n",
              "  </tbody>\n",
              "</table>\n",
              "</div>\n",
              "      <button class=\"colab-df-convert\" onclick=\"convertToInteractive('df-ca47460e-83d8-43cc-8c12-04f1aaf3ac1c')\"\n",
              "              title=\"Convert this dataframe to an interactive table.\"\n",
              "              style=\"display:none;\">\n",
              "        \n",
              "  <svg xmlns=\"http://www.w3.org/2000/svg\" height=\"24px\"viewBox=\"0 0 24 24\"\n",
              "       width=\"24px\">\n",
              "    <path d=\"M0 0h24v24H0V0z\" fill=\"none\"/>\n",
              "    <path d=\"M18.56 5.44l.94 2.06.94-2.06 2.06-.94-2.06-.94-.94-2.06-.94 2.06-2.06.94zm-11 1L8.5 8.5l.94-2.06 2.06-.94-2.06-.94L8.5 2.5l-.94 2.06-2.06.94zm10 10l.94 2.06.94-2.06 2.06-.94-2.06-.94-.94-2.06-.94 2.06-2.06.94z\"/><path d=\"M17.41 7.96l-1.37-1.37c-.4-.4-.92-.59-1.43-.59-.52 0-1.04.2-1.43.59L10.3 9.45l-7.72 7.72c-.78.78-.78 2.05 0 2.83L4 21.41c.39.39.9.59 1.41.59.51 0 1.02-.2 1.41-.59l7.78-7.78 2.81-2.81c.8-.78.8-2.07 0-2.86zM5.41 20L4 18.59l7.72-7.72 1.47 1.35L5.41 20z\"/>\n",
              "  </svg>\n",
              "      </button>\n",
              "      \n",
              "  <style>\n",
              "    .colab-df-container {\n",
              "      display:flex;\n",
              "      flex-wrap:wrap;\n",
              "      gap: 12px;\n",
              "    }\n",
              "\n",
              "    .colab-df-convert {\n",
              "      background-color: #E8F0FE;\n",
              "      border: none;\n",
              "      border-radius: 50%;\n",
              "      cursor: pointer;\n",
              "      display: none;\n",
              "      fill: #1967D2;\n",
              "      height: 32px;\n",
              "      padding: 0 0 0 0;\n",
              "      width: 32px;\n",
              "    }\n",
              "\n",
              "    .colab-df-convert:hover {\n",
              "      background-color: #E2EBFA;\n",
              "      box-shadow: 0px 1px 2px rgba(60, 64, 67, 0.3), 0px 1px 3px 1px rgba(60, 64, 67, 0.15);\n",
              "      fill: #174EA6;\n",
              "    }\n",
              "\n",
              "    [theme=dark] .colab-df-convert {\n",
              "      background-color: #3B4455;\n",
              "      fill: #D2E3FC;\n",
              "    }\n",
              "\n",
              "    [theme=dark] .colab-df-convert:hover {\n",
              "      background-color: #434B5C;\n",
              "      box-shadow: 0px 1px 3px 1px rgba(0, 0, 0, 0.15);\n",
              "      filter: drop-shadow(0px 1px 2px rgba(0, 0, 0, 0.3));\n",
              "      fill: #FFFFFF;\n",
              "    }\n",
              "  </style>\n",
              "\n",
              "      <script>\n",
              "        const buttonEl =\n",
              "          document.querySelector('#df-ca47460e-83d8-43cc-8c12-04f1aaf3ac1c button.colab-df-convert');\n",
              "        buttonEl.style.display =\n",
              "          google.colab.kernel.accessAllowed ? 'block' : 'none';\n",
              "\n",
              "        async function convertToInteractive(key) {\n",
              "          const element = document.querySelector('#df-ca47460e-83d8-43cc-8c12-04f1aaf3ac1c');\n",
              "          const dataTable =\n",
              "            await google.colab.kernel.invokeFunction('convertToInteractive',\n",
              "                                                     [key], {});\n",
              "          if (!dataTable) return;\n",
              "\n",
              "          const docLinkHtml = 'Like what you see? Visit the ' +\n",
              "            '<a target=\"_blank\" href=https://colab.research.google.com/notebooks/data_table.ipynb>data table notebook</a>'\n",
              "            + ' to learn more about interactive tables.';\n",
              "          element.innerHTML = '';\n",
              "          dataTable['output_type'] = 'display_data';\n",
              "          await google.colab.output.renderOutput(dataTable, element);\n",
              "          const docLink = document.createElement('div');\n",
              "          docLink.innerHTML = docLinkHtml;\n",
              "          element.appendChild(docLink);\n",
              "        }\n",
              "      </script>\n",
              "    </div>\n",
              "  </div>\n",
              "  "
            ]
          },
          "metadata": {},
          "execution_count": 39
        }
      ]
    },
    {
      "cell_type": "code",
      "source": [
        "dt.isnull().sum(),dt.duplicated().sum()"
      ],
      "metadata": {
        "colab": {
          "base_uri": "https://localhost:8080/"
        },
        "id": "7v0pDA_5fIzw",
        "outputId": "5943a338-ae49-43ce-9ecc-27bbb1bddf66"
      },
      "execution_count": 40,
      "outputs": [
        {
          "output_type": "execute_result",
          "data": {
            "text/plain": [
              "(Serial No.           0\n",
              " GRE Score            0\n",
              " TOEFL Score          0\n",
              " University Rating    0\n",
              " SOP                  0\n",
              " LOR                  0\n",
              " CGPA                 0\n",
              " Research             0\n",
              " Chance of Admit      0\n",
              " dtype: int64, 0)"
            ]
          },
          "metadata": {},
          "execution_count": 40
        }
      ]
    },
    {
      "cell_type": "code",
      "source": [
        "dt.drop(columns=\"Serial No.\",inplace=True)\n"
      ],
      "metadata": {
        "id": "U5KCD-JcfbK5"
      },
      "execution_count": 41,
      "outputs": []
    },
    {
      "cell_type": "code",
      "source": [
        "x=dt.iloc[:,0:-1]\n",
        "y=dt.iloc[:,-1]"
      ],
      "metadata": {
        "id": "BcplAeqwgByI"
      },
      "execution_count": 42,
      "outputs": []
    },
    {
      "cell_type": "code",
      "source": [
        "y.head()"
      ],
      "metadata": {
        "colab": {
          "base_uri": "https://localhost:8080/"
        },
        "id": "a9TI2jwfgMTo",
        "outputId": "77f94cee-3267-432c-9a52-bfbaa8fbaafd"
      },
      "execution_count": 43,
      "outputs": [
        {
          "output_type": "execute_result",
          "data": {
            "text/plain": [
              "0    0.92\n",
              "1    0.76\n",
              "2    0.72\n",
              "3    0.80\n",
              "4    0.65\n",
              "Name: Chance of Admit , dtype: float64"
            ]
          },
          "metadata": {},
          "execution_count": 43
        }
      ]
    },
    {
      "cell_type": "code",
      "source": [
        "from sklearn.model_selection import train_test_split\n"
      ],
      "metadata": {
        "id": "bz6jH9ANgOt5"
      },
      "execution_count": 44,
      "outputs": []
    },
    {
      "cell_type": "code",
      "source": [
        "x_train,x_test,y_train,y_test=train_test_split(x,y,test_size=0.2,random_state=0)"
      ],
      "metadata": {
        "id": "bmvdbZuLglHB"
      },
      "execution_count": 45,
      "outputs": []
    },
    {
      "cell_type": "code",
      "source": [
        "x_train.head()"
      ],
      "metadata": {
        "colab": {
          "base_uri": "https://localhost:8080/",
          "height": 206
        },
        "id": "THdZg-VLg_h3",
        "outputId": "a9c850f0-2fec-40ab-9137-3a4a04279e9d"
      },
      "execution_count": 46,
      "outputs": [
        {
          "output_type": "execute_result",
          "data": {
            "text/plain": [
              "     GRE Score  TOEFL Score  University Rating  SOP  LOR   CGPA  Research\n",
              "336        319          110                  3  3.0   2.5  8.79         0\n",
              "64         325          111                  3  3.0   3.5  8.70         0\n",
              "55         320          103                  3  3.0   3.0  7.70         0\n",
              "106        329          111                  4  4.5   4.5  9.18         1\n",
              "300        309          106                  2  2.5   2.5  8.00         0"
            ],
            "text/html": [
              "\n",
              "  <div id=\"df-0cbe4886-319c-4af8-a17f-041880a50940\">\n",
              "    <div class=\"colab-df-container\">\n",
              "      <div>\n",
              "<style scoped>\n",
              "    .dataframe tbody tr th:only-of-type {\n",
              "        vertical-align: middle;\n",
              "    }\n",
              "\n",
              "    .dataframe tbody tr th {\n",
              "        vertical-align: top;\n",
              "    }\n",
              "\n",
              "    .dataframe thead th {\n",
              "        text-align: right;\n",
              "    }\n",
              "</style>\n",
              "<table border=\"1\" class=\"dataframe\">\n",
              "  <thead>\n",
              "    <tr style=\"text-align: right;\">\n",
              "      <th></th>\n",
              "      <th>GRE Score</th>\n",
              "      <th>TOEFL Score</th>\n",
              "      <th>University Rating</th>\n",
              "      <th>SOP</th>\n",
              "      <th>LOR</th>\n",
              "      <th>CGPA</th>\n",
              "      <th>Research</th>\n",
              "    </tr>\n",
              "  </thead>\n",
              "  <tbody>\n",
              "    <tr>\n",
              "      <th>336</th>\n",
              "      <td>319</td>\n",
              "      <td>110</td>\n",
              "      <td>3</td>\n",
              "      <td>3.0</td>\n",
              "      <td>2.5</td>\n",
              "      <td>8.79</td>\n",
              "      <td>0</td>\n",
              "    </tr>\n",
              "    <tr>\n",
              "      <th>64</th>\n",
              "      <td>325</td>\n",
              "      <td>111</td>\n",
              "      <td>3</td>\n",
              "      <td>3.0</td>\n",
              "      <td>3.5</td>\n",
              "      <td>8.70</td>\n",
              "      <td>0</td>\n",
              "    </tr>\n",
              "    <tr>\n",
              "      <th>55</th>\n",
              "      <td>320</td>\n",
              "      <td>103</td>\n",
              "      <td>3</td>\n",
              "      <td>3.0</td>\n",
              "      <td>3.0</td>\n",
              "      <td>7.70</td>\n",
              "      <td>0</td>\n",
              "    </tr>\n",
              "    <tr>\n",
              "      <th>106</th>\n",
              "      <td>329</td>\n",
              "      <td>111</td>\n",
              "      <td>4</td>\n",
              "      <td>4.5</td>\n",
              "      <td>4.5</td>\n",
              "      <td>9.18</td>\n",
              "      <td>1</td>\n",
              "    </tr>\n",
              "    <tr>\n",
              "      <th>300</th>\n",
              "      <td>309</td>\n",
              "      <td>106</td>\n",
              "      <td>2</td>\n",
              "      <td>2.5</td>\n",
              "      <td>2.5</td>\n",
              "      <td>8.00</td>\n",
              "      <td>0</td>\n",
              "    </tr>\n",
              "  </tbody>\n",
              "</table>\n",
              "</div>\n",
              "      <button class=\"colab-df-convert\" onclick=\"convertToInteractive('df-0cbe4886-319c-4af8-a17f-041880a50940')\"\n",
              "              title=\"Convert this dataframe to an interactive table.\"\n",
              "              style=\"display:none;\">\n",
              "        \n",
              "  <svg xmlns=\"http://www.w3.org/2000/svg\" height=\"24px\"viewBox=\"0 0 24 24\"\n",
              "       width=\"24px\">\n",
              "    <path d=\"M0 0h24v24H0V0z\" fill=\"none\"/>\n",
              "    <path d=\"M18.56 5.44l.94 2.06.94-2.06 2.06-.94-2.06-.94-.94-2.06-.94 2.06-2.06.94zm-11 1L8.5 8.5l.94-2.06 2.06-.94-2.06-.94L8.5 2.5l-.94 2.06-2.06.94zm10 10l.94 2.06.94-2.06 2.06-.94-2.06-.94-.94-2.06-.94 2.06-2.06.94z\"/><path d=\"M17.41 7.96l-1.37-1.37c-.4-.4-.92-.59-1.43-.59-.52 0-1.04.2-1.43.59L10.3 9.45l-7.72 7.72c-.78.78-.78 2.05 0 2.83L4 21.41c.39.39.9.59 1.41.59.51 0 1.02-.2 1.41-.59l7.78-7.78 2.81-2.81c.8-.78.8-2.07 0-2.86zM5.41 20L4 18.59l7.72-7.72 1.47 1.35L5.41 20z\"/>\n",
              "  </svg>\n",
              "      </button>\n",
              "      \n",
              "  <style>\n",
              "    .colab-df-container {\n",
              "      display:flex;\n",
              "      flex-wrap:wrap;\n",
              "      gap: 12px;\n",
              "    }\n",
              "\n",
              "    .colab-df-convert {\n",
              "      background-color: #E8F0FE;\n",
              "      border: none;\n",
              "      border-radius: 50%;\n",
              "      cursor: pointer;\n",
              "      display: none;\n",
              "      fill: #1967D2;\n",
              "      height: 32px;\n",
              "      padding: 0 0 0 0;\n",
              "      width: 32px;\n",
              "    }\n",
              "\n",
              "    .colab-df-convert:hover {\n",
              "      background-color: #E2EBFA;\n",
              "      box-shadow: 0px 1px 2px rgba(60, 64, 67, 0.3), 0px 1px 3px 1px rgba(60, 64, 67, 0.15);\n",
              "      fill: #174EA6;\n",
              "    }\n",
              "\n",
              "    [theme=dark] .colab-df-convert {\n",
              "      background-color: #3B4455;\n",
              "      fill: #D2E3FC;\n",
              "    }\n",
              "\n",
              "    [theme=dark] .colab-df-convert:hover {\n",
              "      background-color: #434B5C;\n",
              "      box-shadow: 0px 1px 3px 1px rgba(0, 0, 0, 0.15);\n",
              "      filter: drop-shadow(0px 1px 2px rgba(0, 0, 0, 0.3));\n",
              "      fill: #FFFFFF;\n",
              "    }\n",
              "  </style>\n",
              "\n",
              "      <script>\n",
              "        const buttonEl =\n",
              "          document.querySelector('#df-0cbe4886-319c-4af8-a17f-041880a50940 button.colab-df-convert');\n",
              "        buttonEl.style.display =\n",
              "          google.colab.kernel.accessAllowed ? 'block' : 'none';\n",
              "\n",
              "        async function convertToInteractive(key) {\n",
              "          const element = document.querySelector('#df-0cbe4886-319c-4af8-a17f-041880a50940');\n",
              "          const dataTable =\n",
              "            await google.colab.kernel.invokeFunction('convertToInteractive',\n",
              "                                                     [key], {});\n",
              "          if (!dataTable) return;\n",
              "\n",
              "          const docLinkHtml = 'Like what you see? Visit the ' +\n",
              "            '<a target=\"_blank\" href=https://colab.research.google.com/notebooks/data_table.ipynb>data table notebook</a>'\n",
              "            + ' to learn more about interactive tables.';\n",
              "          element.innerHTML = '';\n",
              "          dataTable['output_type'] = 'display_data';\n",
              "          await google.colab.output.renderOutput(dataTable, element);\n",
              "          const docLink = document.createElement('div');\n",
              "          docLink.innerHTML = docLinkHtml;\n",
              "          element.appendChild(docLink);\n",
              "        }\n",
              "      </script>\n",
              "    </div>\n",
              "  </div>\n",
              "  "
            ]
          },
          "metadata": {},
          "execution_count": 46
        }
      ]
    },
    {
      "cell_type": "code",
      "source": [
        "from sklearn.preprocessing import StandardScaler\n"
      ],
      "metadata": {
        "id": "X5jhLsSYhBhv"
      },
      "execution_count": 47,
      "outputs": []
    },
    {
      "cell_type": "code",
      "source": [
        "scaler=StandardScaler()"
      ],
      "metadata": {
        "id": "LCJ0snh9hMpF"
      },
      "execution_count": 48,
      "outputs": []
    },
    {
      "cell_type": "code",
      "source": [
        "x_train=scaler.fit_transform(x_train)\n",
        "x_test=scaler.transform(x_test)"
      ],
      "metadata": {
        "id": "tab5DA4IhPjY"
      },
      "execution_count": 49,
      "outputs": []
    },
    {
      "cell_type": "code",
      "source": [
        "import tensorflow\n",
        "from tensorflow import keras\n",
        "from keras import Sequential\n",
        "from keras.layers import Dense\n"
      ],
      "metadata": {
        "id": "VmnsGmrJhaDy"
      },
      "execution_count": 50,
      "outputs": []
    },
    {
      "cell_type": "code",
      "source": [
        "model=Sequential()\n",
        "model.add(Dense(7,activation=\"relu\",input_dim=7))\n",
        "model.add(Dense(7,activation=\"relu\"))\n",
        "model.add(Dense(1,activation=\"linear\"))"
      ],
      "metadata": {
        "id": "age4rP1UiKBT"
      },
      "execution_count": 60,
      "outputs": []
    },
    {
      "cell_type": "code",
      "source": [
        "model.summary()"
      ],
      "metadata": {
        "colab": {
          "base_uri": "https://localhost:8080/"
        },
        "id": "aCpzus-1n3bM",
        "outputId": "4b81f5f4-cb36-4b1a-f4c7-c0b0d228b393"
      },
      "execution_count": 52,
      "outputs": [
        {
          "output_type": "stream",
          "name": "stdout",
          "text": [
            "Model: \"sequential_2\"\n",
            "_________________________________________________________________\n",
            " Layer (type)                Output Shape              Param #   \n",
            "=================================================================\n",
            " dense_4 (Dense)             (None, 7)                 56        \n",
            "                                                                 \n",
            " dense_5 (Dense)             (None, 1)                 8         \n",
            "                                                                 \n",
            "=================================================================\n",
            "Total params: 64\n",
            "Trainable params: 64\n",
            "Non-trainable params: 0\n",
            "_________________________________________________________________\n"
          ]
        }
      ]
    },
    {
      "cell_type": "code",
      "source": [
        "model.compile(loss=\"mse\",optimizer=\"Adam\")"
      ],
      "metadata": {
        "id": "Ku1JhiXTn47v"
      },
      "execution_count": 62,
      "outputs": []
    },
    {
      "cell_type": "code",
      "source": [
        "history=model.fit(x_train,y_train,epochs=100,validation_split=0.2)"
      ],
      "metadata": {
        "colab": {
          "base_uri": "https://localhost:8080/"
        },
        "id": "BB46uIaIoGC6",
        "outputId": "c9bdc68b-0b3b-4425-d441-e43df5043679"
      },
      "execution_count": 67,
      "outputs": [
        {
          "output_type": "stream",
          "name": "stdout",
          "text": [
            "Epoch 1/100\n",
            "8/8 [==============================] - 0s 15ms/step - loss: 0.0063 - val_loss: 0.0076\n",
            "Epoch 2/100\n",
            "8/8 [==============================] - 0s 7ms/step - loss: 0.0063 - val_loss: 0.0076\n",
            "Epoch 3/100\n",
            "8/8 [==============================] - 0s 7ms/step - loss: 0.0063 - val_loss: 0.0076\n",
            "Epoch 4/100\n",
            "8/8 [==============================] - 0s 11ms/step - loss: 0.0063 - val_loss: 0.0076\n",
            "Epoch 5/100\n",
            "8/8 [==============================] - 0s 8ms/step - loss: 0.0062 - val_loss: 0.0074\n",
            "Epoch 6/100\n",
            "8/8 [==============================] - 0s 10ms/step - loss: 0.0062 - val_loss: 0.0074\n",
            "Epoch 7/100\n",
            "8/8 [==============================] - 0s 7ms/step - loss: 0.0062 - val_loss: 0.0074\n",
            "Epoch 8/100\n",
            "8/8 [==============================] - 0s 9ms/step - loss: 0.0062 - val_loss: 0.0074\n",
            "Epoch 9/100\n",
            "8/8 [==============================] - 0s 7ms/step - loss: 0.0061 - val_loss: 0.0073\n",
            "Epoch 10/100\n",
            "8/8 [==============================] - 0s 10ms/step - loss: 0.0061 - val_loss: 0.0073\n",
            "Epoch 11/100\n",
            "8/8 [==============================] - 0s 9ms/step - loss: 0.0061 - val_loss: 0.0072\n",
            "Epoch 12/100\n",
            "8/8 [==============================] - 0s 7ms/step - loss: 0.0061 - val_loss: 0.0073\n",
            "Epoch 13/100\n",
            "8/8 [==============================] - 0s 7ms/step - loss: 0.0060 - val_loss: 0.0071\n",
            "Epoch 14/100\n",
            "8/8 [==============================] - 0s 8ms/step - loss: 0.0060 - val_loss: 0.0071\n",
            "Epoch 15/100\n",
            "8/8 [==============================] - 0s 7ms/step - loss: 0.0060 - val_loss: 0.0071\n",
            "Epoch 16/100\n",
            "8/8 [==============================] - 0s 10ms/step - loss: 0.0060 - val_loss: 0.0071\n",
            "Epoch 17/100\n",
            "8/8 [==============================] - 0s 8ms/step - loss: 0.0060 - val_loss: 0.0071\n",
            "Epoch 18/100\n",
            "8/8 [==============================] - 0s 9ms/step - loss: 0.0059 - val_loss: 0.0071\n",
            "Epoch 19/100\n",
            "8/8 [==============================] - 0s 11ms/step - loss: 0.0059 - val_loss: 0.0071\n",
            "Epoch 20/100\n",
            "8/8 [==============================] - 0s 11ms/step - loss: 0.0059 - val_loss: 0.0070\n",
            "Epoch 21/100\n",
            "8/8 [==============================] - 0s 10ms/step - loss: 0.0059 - val_loss: 0.0070\n",
            "Epoch 22/100\n",
            "8/8 [==============================] - 0s 7ms/step - loss: 0.0059 - val_loss: 0.0070\n",
            "Epoch 23/100\n",
            "8/8 [==============================] - 0s 7ms/step - loss: 0.0059 - val_loss: 0.0070\n",
            "Epoch 24/100\n",
            "8/8 [==============================] - 0s 6ms/step - loss: 0.0058 - val_loss: 0.0070\n",
            "Epoch 25/100\n",
            "8/8 [==============================] - 0s 5ms/step - loss: 0.0058 - val_loss: 0.0069\n",
            "Epoch 26/100\n",
            "8/8 [==============================] - 0s 5ms/step - loss: 0.0058 - val_loss: 0.0069\n",
            "Epoch 27/100\n",
            "8/8 [==============================] - 0s 5ms/step - loss: 0.0058 - val_loss: 0.0069\n",
            "Epoch 28/100\n",
            "8/8 [==============================] - 0s 5ms/step - loss: 0.0058 - val_loss: 0.0069\n",
            "Epoch 29/100\n",
            "8/8 [==============================] - 0s 5ms/step - loss: 0.0058 - val_loss: 0.0069\n",
            "Epoch 30/100\n",
            "8/8 [==============================] - 0s 5ms/step - loss: 0.0058 - val_loss: 0.0068\n",
            "Epoch 31/100\n",
            "8/8 [==============================] - 0s 5ms/step - loss: 0.0057 - val_loss: 0.0068\n",
            "Epoch 32/100\n",
            "8/8 [==============================] - 0s 5ms/step - loss: 0.0058 - val_loss: 0.0069\n",
            "Epoch 33/100\n",
            "8/8 [==============================] - 0s 5ms/step - loss: 0.0057 - val_loss: 0.0068\n",
            "Epoch 34/100\n",
            "8/8 [==============================] - 0s 5ms/step - loss: 0.0057 - val_loss: 0.0068\n",
            "Epoch 35/100\n",
            "8/8 [==============================] - 0s 5ms/step - loss: 0.0057 - val_loss: 0.0068\n",
            "Epoch 36/100\n",
            "8/8 [==============================] - 0s 6ms/step - loss: 0.0057 - val_loss: 0.0068\n",
            "Epoch 37/100\n",
            "8/8 [==============================] - 0s 6ms/step - loss: 0.0057 - val_loss: 0.0068\n",
            "Epoch 38/100\n",
            "8/8 [==============================] - 0s 5ms/step - loss: 0.0056 - val_loss: 0.0068\n",
            "Epoch 39/100\n",
            "8/8 [==============================] - 0s 5ms/step - loss: 0.0056 - val_loss: 0.0067\n",
            "Epoch 40/100\n",
            "8/8 [==============================] - 0s 5ms/step - loss: 0.0056 - val_loss: 0.0068\n",
            "Epoch 41/100\n",
            "8/8 [==============================] - 0s 5ms/step - loss: 0.0056 - val_loss: 0.0067\n",
            "Epoch 42/100\n",
            "8/8 [==============================] - 0s 5ms/step - loss: 0.0056 - val_loss: 0.0067\n",
            "Epoch 43/100\n",
            "8/8 [==============================] - 0s 6ms/step - loss: 0.0056 - val_loss: 0.0068\n",
            "Epoch 44/100\n",
            "8/8 [==============================] - 0s 6ms/step - loss: 0.0055 - val_loss: 0.0067\n",
            "Epoch 45/100\n",
            "8/8 [==============================] - 0s 5ms/step - loss: 0.0055 - val_loss: 0.0067\n",
            "Epoch 46/100\n",
            "8/8 [==============================] - 0s 5ms/step - loss: 0.0056 - val_loss: 0.0068\n",
            "Epoch 47/100\n",
            "8/8 [==============================] - 0s 5ms/step - loss: 0.0055 - val_loss: 0.0067\n",
            "Epoch 48/100\n",
            "8/8 [==============================] - 0s 5ms/step - loss: 0.0055 - val_loss: 0.0066\n",
            "Epoch 49/100\n",
            "8/8 [==============================] - 0s 5ms/step - loss: 0.0055 - val_loss: 0.0067\n",
            "Epoch 50/100\n",
            "8/8 [==============================] - 0s 5ms/step - loss: 0.0056 - val_loss: 0.0068\n",
            "Epoch 51/100\n",
            "8/8 [==============================] - 0s 5ms/step - loss: 0.0055 - val_loss: 0.0066\n",
            "Epoch 52/100\n",
            "8/8 [==============================] - 0s 5ms/step - loss: 0.0055 - val_loss: 0.0067\n",
            "Epoch 53/100\n",
            "8/8 [==============================] - 0s 5ms/step - loss: 0.0054 - val_loss: 0.0067\n",
            "Epoch 54/100\n",
            "8/8 [==============================] - 0s 5ms/step - loss: 0.0054 - val_loss: 0.0067\n",
            "Epoch 55/100\n",
            "8/8 [==============================] - 0s 5ms/step - loss: 0.0054 - val_loss: 0.0066\n",
            "Epoch 56/100\n",
            "8/8 [==============================] - 0s 5ms/step - loss: 0.0054 - val_loss: 0.0067\n",
            "Epoch 57/100\n",
            "8/8 [==============================] - 0s 6ms/step - loss: 0.0054 - val_loss: 0.0067\n",
            "Epoch 58/100\n",
            "8/8 [==============================] - 0s 5ms/step - loss: 0.0054 - val_loss: 0.0066\n",
            "Epoch 59/100\n",
            "8/8 [==============================] - 0s 6ms/step - loss: 0.0054 - val_loss: 0.0067\n",
            "Epoch 60/100\n",
            "8/8 [==============================] - 0s 5ms/step - loss: 0.0054 - val_loss: 0.0066\n",
            "Epoch 61/100\n",
            "8/8 [==============================] - 0s 6ms/step - loss: 0.0054 - val_loss: 0.0067\n",
            "Epoch 62/100\n",
            "8/8 [==============================] - 0s 5ms/step - loss: 0.0054 - val_loss: 0.0066\n",
            "Epoch 63/100\n",
            "8/8 [==============================] - 0s 5ms/step - loss: 0.0053 - val_loss: 0.0066\n",
            "Epoch 64/100\n",
            "8/8 [==============================] - 0s 5ms/step - loss: 0.0053 - val_loss: 0.0066\n",
            "Epoch 65/100\n",
            "8/8 [==============================] - 0s 5ms/step - loss: 0.0053 - val_loss: 0.0066\n",
            "Epoch 66/100\n",
            "8/8 [==============================] - 0s 5ms/step - loss: 0.0053 - val_loss: 0.0066\n",
            "Epoch 67/100\n",
            "8/8 [==============================] - 0s 6ms/step - loss: 0.0053 - val_loss: 0.0066\n",
            "Epoch 68/100\n",
            "8/8 [==============================] - 0s 5ms/step - loss: 0.0053 - val_loss: 0.0065\n",
            "Epoch 69/100\n",
            "8/8 [==============================] - 0s 5ms/step - loss: 0.0053 - val_loss: 0.0065\n",
            "Epoch 70/100\n",
            "8/8 [==============================] - 0s 5ms/step - loss: 0.0053 - val_loss: 0.0066\n",
            "Epoch 71/100\n",
            "8/8 [==============================] - 0s 6ms/step - loss: 0.0053 - val_loss: 0.0066\n",
            "Epoch 72/100\n",
            "8/8 [==============================] - 0s 5ms/step - loss: 0.0053 - val_loss: 0.0065\n",
            "Epoch 73/100\n",
            "8/8 [==============================] - 0s 5ms/step - loss: 0.0053 - val_loss: 0.0066\n",
            "Epoch 74/100\n",
            "8/8 [==============================] - 0s 5ms/step - loss: 0.0052 - val_loss: 0.0065\n",
            "Epoch 75/100\n",
            "8/8 [==============================] - 0s 5ms/step - loss: 0.0052 - val_loss: 0.0065\n",
            "Epoch 76/100\n",
            "8/8 [==============================] - 0s 5ms/step - loss: 0.0052 - val_loss: 0.0066\n",
            "Epoch 77/100\n",
            "8/8 [==============================] - 0s 5ms/step - loss: 0.0052 - val_loss: 0.0065\n",
            "Epoch 78/100\n",
            "8/8 [==============================] - 0s 5ms/step - loss: 0.0052 - val_loss: 0.0065\n",
            "Epoch 79/100\n",
            "8/8 [==============================] - 0s 10ms/step - loss: 0.0052 - val_loss: 0.0065\n",
            "Epoch 80/100\n",
            "8/8 [==============================] - 0s 5ms/step - loss: 0.0052 - val_loss: 0.0065\n",
            "Epoch 81/100\n",
            "8/8 [==============================] - 0s 5ms/step - loss: 0.0052 - val_loss: 0.0065\n",
            "Epoch 82/100\n",
            "8/8 [==============================] - 0s 5ms/step - loss: 0.0052 - val_loss: 0.0065\n",
            "Epoch 83/100\n",
            "8/8 [==============================] - 0s 5ms/step - loss: 0.0052 - val_loss: 0.0065\n",
            "Epoch 84/100\n",
            "8/8 [==============================] - 0s 5ms/step - loss: 0.0052 - val_loss: 0.0065\n",
            "Epoch 85/100\n",
            "8/8 [==============================] - 0s 5ms/step - loss: 0.0051 - val_loss: 0.0065\n",
            "Epoch 86/100\n",
            "8/8 [==============================] - 0s 5ms/step - loss: 0.0051 - val_loss: 0.0065\n",
            "Epoch 87/100\n",
            "8/8 [==============================] - 0s 5ms/step - loss: 0.0051 - val_loss: 0.0065\n",
            "Epoch 88/100\n",
            "8/8 [==============================] - 0s 5ms/step - loss: 0.0051 - val_loss: 0.0065\n",
            "Epoch 89/100\n",
            "8/8 [==============================] - 0s 5ms/step - loss: 0.0051 - val_loss: 0.0065\n",
            "Epoch 90/100\n",
            "8/8 [==============================] - 0s 5ms/step - loss: 0.0051 - val_loss: 0.0065\n",
            "Epoch 91/100\n",
            "8/8 [==============================] - 0s 5ms/step - loss: 0.0051 - val_loss: 0.0065\n",
            "Epoch 92/100\n",
            "8/8 [==============================] - 0s 8ms/step - loss: 0.0051 - val_loss: 0.0065\n",
            "Epoch 93/100\n",
            "8/8 [==============================] - 0s 6ms/step - loss: 0.0051 - val_loss: 0.0065\n",
            "Epoch 94/100\n",
            "8/8 [==============================] - 0s 5ms/step - loss: 0.0051 - val_loss: 0.0065\n",
            "Epoch 95/100\n",
            "8/8 [==============================] - 0s 5ms/step - loss: 0.0051 - val_loss: 0.0065\n",
            "Epoch 96/100\n",
            "8/8 [==============================] - 0s 8ms/step - loss: 0.0051 - val_loss: 0.0065\n",
            "Epoch 97/100\n",
            "8/8 [==============================] - 0s 5ms/step - loss: 0.0051 - val_loss: 0.0065\n",
            "Epoch 98/100\n",
            "8/8 [==============================] - 0s 5ms/step - loss: 0.0051 - val_loss: 0.0065\n",
            "Epoch 99/100\n",
            "8/8 [==============================] - 0s 6ms/step - loss: 0.0051 - val_loss: 0.0065\n",
            "Epoch 100/100\n",
            "8/8 [==============================] - 0s 6ms/step - loss: 0.0051 - val_loss: 0.0065\n"
          ]
        }
      ]
    },
    {
      "cell_type": "code",
      "source": [
        "y_pred=model.predict(x_test)"
      ],
      "metadata": {
        "id": "VgDaJKdDoQip"
      },
      "execution_count": 64,
      "outputs": []
    },
    {
      "cell_type": "code",
      "source": [
        "from sklearn.metrics import r2_score\n",
        " "
      ],
      "metadata": {
        "id": "qzSbfXF9pODK"
      },
      "execution_count": 65,
      "outputs": []
    },
    {
      "cell_type": "code",
      "source": [
        "r2_score(y_test,y_pred)"
      ],
      "metadata": {
        "colab": {
          "base_uri": "https://localhost:8080/"
        },
        "id": "Nwb5kPIrpWSw",
        "outputId": "3d937fe4-4dcf-43fa-f952-491972a8a84c"
      },
      "execution_count": 66,
      "outputs": [
        {
          "output_type": "execute_result",
          "data": {
            "text/plain": [
              "0.5873704663051736"
            ]
          },
          "metadata": {},
          "execution_count": 66
        }
      ]
    },
    {
      "cell_type": "code",
      "source": [
        "plt.plot(history.history[\"loss\"])\n",
        "plt.plot(history.history[\"val_loss\"])"
      ],
      "metadata": {
        "colab": {
          "base_uri": "https://localhost:8080/",
          "height": 283
        },
        "id": "mwJG5S1PpZXR",
        "outputId": "84dfdd8c-332f-4719-a89c-0f63f5f2417e"
      },
      "execution_count": 69,
      "outputs": [
        {
          "output_type": "execute_result",
          "data": {
            "text/plain": [
              "[<matplotlib.lines.Line2D at 0x7fd77c29c2d0>]"
            ]
          },
          "metadata": {},
          "execution_count": 69
        },
        {
          "output_type": "display_data",
          "data": {
            "text/plain": [
              "<Figure size 432x288 with 1 Axes>"
            ],
            "image/png": "[encoded data removed]"
          },
          "metadata": {
            "needs_background": "light"
          }
        }
      ]
    },
    {
      "cell_type": "code",
      "source": [
        ""
      ],
      "metadata": {
        "id": "F_1fEAtQqAmX"
      },
      "execution_count": null,
      "outputs": []
    }
  ]
}