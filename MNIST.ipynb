{
  "nbformat": 4,
  "nbformat_minor": 0,
  "metadata": {
    "colab": {
      "name": "MNIST.ipynb",
      "provenance": [],
      "authorship_tag": "ABX9TyPYAiNnxHsjJ5TODa4fGZdE",
      "include_colab_link": true
    },
    "kernelspec": {
      "name": "python3",
      "display_name": "Python 3"
    },
    "language_info": {
      "name": "python"
    }
  },
  "cells": [
    {
      "cell_type": "markdown",
      "metadata": {
        "id": "view-in-github",
        "colab_type": "text"
      },
      "source": [
        "<a href=\"https://colab.research.google.com/github/kulraj97/ML-Practise/blob/main/MNIST.ipynb\" target=\"_parent\"><img src=\"https://colab.research.google.com/assets/colab-badge.svg\" alt=\"Open In Colab\"/></a>"
      ]
    },
    {
      "cell_type": "code",
      "execution_count": 59,
      "metadata": {
        "id": "idapl-fsr3Oy"
      },
      "outputs": [],
      "source": [
        "import tensorflow as tf\n",
        "import pandas as pd\n",
        "import matplotlib.pyplot as plt\n",
        "from tensorflow.keras import Sequential\n",
        "from tensorflow.keras.layers import Dense,Flatten\n",
        "import keras\n",
        "import numpy as np"
      ]
    },
    {
      "cell_type": "code",
      "source": [
        "(X_train,y_train),(X_test,y_test)=keras.datasets.mnist.load_data()"
      ],
      "metadata": {
        "id": "yOVGi0DasBf0"
      },
      "execution_count": 60,
      "outputs": []
    },
    {
      "cell_type": "code",
      "source": [
        "X_train[0].shape,y_train[0]"
      ],
      "metadata": {
        "colab": {
          "base_uri": "https://localhost:8080/"
        },
        "id": "9siooCUasWVg",
        "outputId": "c85f7f40-8fd0-4503-9f28-7371f469407b"
      },
      "execution_count": 61,
      "outputs": [
        {
          "output_type": "execute_result",
          "data": {
            "text/plain": [
              "((28, 28), 5)"
            ]
          },
          "metadata": {},
          "execution_count": 61
        }
      ]
    },
    {
      "cell_type": "code",
      "source": [
        "plt.imshow(X_train[0])"
      ],
      "metadata": {
        "colab": {
          "base_uri": "https://localhost:8080/",
          "height": 283
        },
        "id": "QaeqF-j9tKAr",
        "outputId": "97e85035-10a2-4fe1-9b03-d217e160b4e0"
      },
      "execution_count": 62,
      "outputs": [
        {
          "output_type": "execute_result",
          "data": {
            "text/plain": [
              "<matplotlib.image.AxesImage at 0x7fb1e3e13510>"
            ]
          },
          "metadata": {},
          "execution_count": 62
        },
        {
          "output_type": "display_data",
          "data": {
            "text/plain": [
              "<Figure size 432x288 with 1 Axes>"
            ],
            "image/png": "[encoded data removed]"
          },
          "metadata": {
            "needs_background": "light"
          }
        }
      ]
    },
    {
      "cell_type": "code",
      "source": [
        "X_train.max(),y_train.max()\n"
      ],
      "metadata": {
        "colab": {
          "base_uri": "https://localhost:8080/"
        },
        "id": "9zyjTg1ZyLby",
        "outputId": "3d581d0b-e876-4eac-cf6d-1ff48d0b52c1"
      },
      "execution_count": 63,
      "outputs": [
        {
          "output_type": "execute_result",
          "data": {
            "text/plain": [
              "(255, 9)"
            ]
          },
          "metadata": {},
          "execution_count": 63
        }
      ]
    },
    {
      "cell_type": "code",
      "source": [
        "X_train=X_train/255\n",
        "X_test=X_test/255"
      ],
      "metadata": {
        "id": "MIo4lP4gyUC1"
      },
      "execution_count": 64,
      "outputs": []
    },
    {
      "cell_type": "code",
      "source": [
        "X_train"
      ],
      "metadata": {
        "colab": {
          "base_uri": "https://localhost:8080/"
        },
        "id": "VT74i5-Szdz8",
        "outputId": "7d6503b4-213c-4649-d391-64236125a478"
      },
      "execution_count": 65,
      "outputs": [
        {
          "output_type": "execute_result",
          "data": {
            "text/plain": [
              "array([[[0., 0., 0., ..., 0., 0., 0.],\n",
              "        [0., 0., 0., ..., 0., 0., 0.],\n",
              "        [0., 0., 0., ..., 0., 0., 0.],\n",
              "        ...,\n",
              "        [0., 0., 0., ..., 0., 0., 0.],\n",
              "        [0., 0., 0., ..., 0., 0., 0.],\n",
              "        [0., 0., 0., ..., 0., 0., 0.]],\n",
              "\n",
              "       [[0., 0., 0., ..., 0., 0., 0.],\n",
              "        [0., 0., 0., ..., 0., 0., 0.],\n",
              "        [0., 0., 0., ..., 0., 0., 0.],\n",
              "        ...,\n",
              "        [0., 0., 0., ..., 0., 0., 0.],\n",
              "        [0., 0., 0., ..., 0., 0., 0.],\n",
              "        [0., 0., 0., ..., 0., 0., 0.]],\n",
              "\n",
              "       [[0., 0., 0., ..., 0., 0., 0.],\n",
              "        [0., 0., 0., ..., 0., 0., 0.],\n",
              "        [0., 0., 0., ..., 0., 0., 0.],\n",
              "        ...,\n",
              "        [0., 0., 0., ..., 0., 0., 0.],\n",
              "        [0., 0., 0., ..., 0., 0., 0.],\n",
              "        [0., 0., 0., ..., 0., 0., 0.]],\n",
              "\n",
              "       ...,\n",
              "\n",
              "       [[0., 0., 0., ..., 0., 0., 0.],\n",
              "        [0., 0., 0., ..., 0., 0., 0.],\n",
              "        [0., 0., 0., ..., 0., 0., 0.],\n",
              "        ...,\n",
              "        [0., 0., 0., ..., 0., 0., 0.],\n",
              "        [0., 0., 0., ..., 0., 0., 0.],\n",
              "        [0., 0., 0., ..., 0., 0., 0.]],\n",
              "\n",
              "       [[0., 0., 0., ..., 0., 0., 0.],\n",
              "        [0., 0., 0., ..., 0., 0., 0.],\n",
              "        [0., 0., 0., ..., 0., 0., 0.],\n",
              "        ...,\n",
              "        [0., 0., 0., ..., 0., 0., 0.],\n",
              "        [0., 0., 0., ..., 0., 0., 0.],\n",
              "        [0., 0., 0., ..., 0., 0., 0.]],\n",
              "\n",
              "       [[0., 0., 0., ..., 0., 0., 0.],\n",
              "        [0., 0., 0., ..., 0., 0., 0.],\n",
              "        [0., 0., 0., ..., 0., 0., 0.],\n",
              "        ...,\n",
              "        [0., 0., 0., ..., 0., 0., 0.],\n",
              "        [0., 0., 0., ..., 0., 0., 0.],\n",
              "        [0., 0., 0., ..., 0., 0., 0.]]])"
            ]
          },
          "metadata": {},
          "execution_count": 65
        }
      ]
    },
    {
      "cell_type": "code",
      "source": [
        "model=Sequential()\n",
        "model.add(Flatten(input_shape=(28,28)))\n",
        "model.add(Dense(128,activation=\"relu\"))\n",
        "model.add(Dense(32,activation=\"relu\"))\n",
        "model.add(Dense(10,activation=\"softmax\"))"
      ],
      "metadata": {
        "id": "4lHA_W6k0kwY"
      },
      "execution_count": 107,
      "outputs": []
    },
    {
      "cell_type": "code",
      "source": [
        "model.summary()"
      ],
      "metadata": {
        "colab": {
          "base_uri": "https://localhost:8080/"
        },
        "id": "aRds8NIN1iem",
        "outputId": "963503cc-f346-441c-f138-6e062337540f"
      },
      "execution_count": 108,
      "outputs": [
        {
          "output_type": "stream",
          "name": "stdout",
          "text": [
            "Model: \"sequential_4\"\n",
            "_________________________________________________________________\n",
            " Layer (type)                Output Shape              Param #   \n",
            "=================================================================\n",
            " flatten_3 (Flatten)         (None, 784)               0         \n",
            "                                                                 \n",
            " dense_6 (Dense)             (None, 128)               100480    \n",
            "                                                                 \n",
            " dense_7 (Dense)             (None, 32)                4128      \n",
            "                                                                 \n",
            " dense_8 (Dense)             (None, 10)                330       \n",
            "                                                                 \n",
            "=================================================================\n",
            "Total params: 104,938\n",
            "Trainable params: 104,938\n",
            "Non-trainable params: 0\n",
            "_________________________________________________________________\n"
          ]
        }
      ]
    },
    {
      "cell_type": "code",
      "source": [
        "model.compile(loss=\"sparse_categorical_crossentropy\",optimizer='Adam',metrics=[\"accuracy\"])"
      ],
      "metadata": {
        "id": "A_4zHxXN3vOz"
      },
      "execution_count": 109,
      "outputs": []
    },
    {
      "cell_type": "code",
      "source": [
        "history=model.fit(X_train,y_train,epochs=25,validation_split=0.2)"
      ],
      "metadata": {
        "colab": {
          "base_uri": "https://localhost:8080/"
        },
        "id": "roo0vByH49im",
        "outputId": "9b8eda12-7c2f-4b79-db42-f3a327191c3f"
      },
      "execution_count": 110,
      "outputs": [
        {
          "output_type": "stream",
          "name": "stdout",
          "text": [
            "Epoch 1/25\n",
            "1500/1500 [==============================] - 5s 3ms/step - loss: 0.2910 - accuracy: 0.9149 - val_loss: 0.1512 - val_accuracy: 0.9569\n",
            "Epoch 2/25\n",
            "1500/1500 [==============================] - 4s 3ms/step - loss: 0.1257 - accuracy: 0.9628 - val_loss: 0.1125 - val_accuracy: 0.9670\n",
            "Epoch 3/25\n",
            "1500/1500 [==============================] - 4s 3ms/step - loss: 0.0869 - accuracy: 0.9733 - val_loss: 0.0966 - val_accuracy: 0.9697\n",
            "Epoch 4/25\n",
            "1500/1500 [==============================] - 4s 3ms/step - loss: 0.0640 - accuracy: 0.9799 - val_loss: 0.1256 - val_accuracy: 0.9651\n",
            "Epoch 5/25\n",
            "1500/1500 [==============================] - 4s 3ms/step - loss: 0.0508 - accuracy: 0.9838 - val_loss: 0.0981 - val_accuracy: 0.9728\n",
            "Epoch 6/25\n",
            "1500/1500 [==============================] - 4s 2ms/step - loss: 0.0419 - accuracy: 0.9860 - val_loss: 0.1049 - val_accuracy: 0.9695\n",
            "Epoch 7/25\n",
            "1500/1500 [==============================] - 4s 3ms/step - loss: 0.0315 - accuracy: 0.9895 - val_loss: 0.1077 - val_accuracy: 0.9725\n",
            "Epoch 8/25\n",
            "1500/1500 [==============================] - 4s 3ms/step - loss: 0.0278 - accuracy: 0.9908 - val_loss: 0.1026 - val_accuracy: 0.9743\n",
            "Epoch 9/25\n",
            "1500/1500 [==============================] - 4s 3ms/step - loss: 0.0242 - accuracy: 0.9923 - val_loss: 0.1042 - val_accuracy: 0.9753\n",
            "Epoch 10/25\n",
            "1500/1500 [==============================] - 4s 2ms/step - loss: 0.0199 - accuracy: 0.9936 - val_loss: 0.1146 - val_accuracy: 0.9727\n",
            "Epoch 11/25\n",
            "1500/1500 [==============================] - 4s 3ms/step - loss: 0.0188 - accuracy: 0.9938 - val_loss: 0.1174 - val_accuracy: 0.9726\n",
            "Epoch 12/25\n",
            "1500/1500 [==============================] - 4s 2ms/step - loss: 0.0160 - accuracy: 0.9941 - val_loss: 0.1135 - val_accuracy: 0.9760\n",
            "Epoch 13/25\n",
            "1500/1500 [==============================] - 4s 3ms/step - loss: 0.0146 - accuracy: 0.9951 - val_loss: 0.1086 - val_accuracy: 0.9769\n",
            "Epoch 14/25\n",
            "1500/1500 [==============================] - 4s 2ms/step - loss: 0.0152 - accuracy: 0.9946 - val_loss: 0.1258 - val_accuracy: 0.9753\n",
            "Epoch 15/25\n",
            "1500/1500 [==============================] - 4s 2ms/step - loss: 0.0123 - accuracy: 0.9960 - val_loss: 0.1365 - val_accuracy: 0.9737\n",
            "Epoch 16/25\n",
            "1500/1500 [==============================] - 4s 3ms/step - loss: 0.0107 - accuracy: 0.9964 - val_loss: 0.1274 - val_accuracy: 0.9768\n",
            "Epoch 17/25\n",
            "1500/1500 [==============================] - 4s 2ms/step - loss: 0.0126 - accuracy: 0.9959 - val_loss: 0.1519 - val_accuracy: 0.9738\n",
            "Epoch 18/25\n",
            "1500/1500 [==============================] - 4s 3ms/step - loss: 0.0105 - accuracy: 0.9963 - val_loss: 0.1466 - val_accuracy: 0.9746\n",
            "Epoch 19/25\n",
            "1500/1500 [==============================] - 4s 2ms/step - loss: 0.0100 - accuracy: 0.9967 - val_loss: 0.1516 - val_accuracy: 0.9740\n",
            "Epoch 20/25\n",
            "1500/1500 [==============================] - 4s 2ms/step - loss: 0.0088 - accuracy: 0.9970 - val_loss: 0.1494 - val_accuracy: 0.9753\n",
            "Epoch 21/25\n",
            "1500/1500 [==============================] - 4s 2ms/step - loss: 0.0074 - accuracy: 0.9976 - val_loss: 0.1550 - val_accuracy: 0.9751\n",
            "Epoch 22/25\n",
            "1500/1500 [==============================] - 4s 2ms/step - loss: 0.0083 - accuracy: 0.9969 - val_loss: 0.1498 - val_accuracy: 0.9758\n",
            "Epoch 23/25\n",
            "1500/1500 [==============================] - 4s 2ms/step - loss: 0.0085 - accuracy: 0.9973 - val_loss: 0.1497 - val_accuracy: 0.9771\n",
            "Epoch 24/25\n",
            "1500/1500 [==============================] - 4s 3ms/step - loss: 0.0080 - accuracy: 0.9975 - val_loss: 0.1917 - val_accuracy: 0.9701\n",
            "Epoch 25/25\n",
            "1500/1500 [==============================] - 4s 3ms/step - loss: 0.0074 - accuracy: 0.9975 - val_loss: 0.1775 - val_accuracy: 0.9746\n"
          ]
        }
      ]
    },
    {
      "cell_type": "code",
      "source": [
        "y_pred=model.predict(X_test)\n",
        "y_pred"
      ],
      "metadata": {
        "colab": {
          "base_uri": "https://localhost:8080/"
        },
        "id": "1riUzYaC5RW4",
        "outputId": "79d5aa15-92c2-4ad9-bd32-75f59a8fd0cf"
      },
      "execution_count": 116,
      "outputs": [
        {
          "output_type": "execute_result",
          "data": {
            "text/plain": [
              "array([[1.3352055e-23, 7.6700706e-17, 7.6690289e-14, ..., 1.0000000e+00,\n",
              "        1.7738542e-22, 1.7753963e-16],\n",
              "       [4.1173330e-25, 4.3641682e-21, 1.0000000e+00, ..., 1.8972872e-18,\n",
              "        2.7619454e-20, 3.7141923e-36],\n",
              "       [9.4135881e-14, 9.9999678e-01, 2.0205148e-08, ..., 7.6042869e-07,\n",
              "        2.4764249e-06, 3.8777878e-12],\n",
              "       ...,\n",
              "       [2.8793741e-27, 3.5183585e-17, 5.9833759e-25, ..., 1.4148993e-13,\n",
              "        2.7656533e-11, 2.3988654e-12],\n",
              "       [1.2508824e-17, 4.6133785e-24, 2.4217199e-18, ..., 3.9719097e-20,\n",
              "        5.9433556e-12, 1.8329115e-26],\n",
              "       [1.1662090e-24, 5.5433594e-30, 2.4420139e-21, ..., 5.3490908e-28,\n",
              "        3.2844155e-25, 6.8489851e-27]], dtype=float32)"
            ]
          },
          "metadata": {},
          "execution_count": 116
        }
      ]
    },
    {
      "cell_type": "code",
      "source": [
        " y_pred1=y_pred.argmax(axis=1)       #yaha pe apan argmax function lagaye h taaki har row m jo bhi max value h uska INDEX apan ko mil sake\n",
        " y_pred1"
      ],
      "metadata": {
        "id": "MmU5vmFYHmYw",
        "colab": {
          "base_uri": "https://localhost:8080/"
        },
        "outputId": "21e59b53-1c95-4e94-edf5-8062a6652af3"
      },
      "execution_count": 117,
      "outputs": [
        {
          "output_type": "execute_result",
          "data": {
            "text/plain": [
              "array([7, 2, 1, ..., 4, 5, 6])"
            ]
          },
          "metadata": {},
          "execution_count": 117
        }
      ]
    },
    {
      "cell_type": "code",
      "source": [
        "from sklearn.metrics import accuracy_score\n",
        "accuracy_score(y_test,y_pred1)"
      ],
      "metadata": {
        "colab": {
          "base_uri": "https://localhost:8080/"
        },
        "id": "mBzhew5FJxgV",
        "outputId": "365add07-04a7-4fce-ff07-3d8337e70d70"
      },
      "execution_count": 118,
      "outputs": [
        {
          "output_type": "execute_result",
          "data": {
            "text/plain": [
              "0.9757"
            ]
          },
          "metadata": {},
          "execution_count": 118
        }
      ]
    },
    {
      "cell_type": "code",
      "source": [
        "plt.plot(history.history[\"loss\"])\n",
        "plt.plot(history.history[\"val_loss\"])"
      ],
      "metadata": {
        "colab": {
          "base_uri": "https://localhost:8080/",
          "height": 284
        },
        "id": "mtW-4D42MWbB",
        "outputId": "e9accd91-bc59-4844-fa1d-3a295b36a2cd"
      },
      "execution_count": 119,
      "outputs": [
        {
          "output_type": "execute_result",
          "data": {
            "text/plain": [
              "[<matplotlib.lines.Line2D at 0x7fb1ddbe2cd0>]"
            ]
          },
          "metadata": {},
          "execution_count": 119
        },
        {
          "output_type": "display_data",
          "data": {
            "text/plain": [
              "<Figure size 432x288 with 1 Axes>"
            ],
            "image/png": "[encoded data removed]"
          },
          "metadata": {
            "needs_background": "light"
          }
        }
      ]
    },
    {
      "cell_type": "code",
      "source": [
        "plt.plot(history.history[\"accuracy\"])\n",
        "plt.plot(history.history[\"val_accuracy\"])"
      ],
      "metadata": {
        "colab": {
          "base_uri": "https://localhost:8080/",
          "height": 283
        },
        "id": "m3UbmHfbMoqJ",
        "outputId": "c15b81bc-7610-42fe-9f7d-8e8cc9093a0e"
      },
      "execution_count": 120,
      "outputs": [
        {
          "output_type": "execute_result",
          "data": {
            "text/plain": [
              "[<matplotlib.lines.Line2D at 0x7fb1ddbaad50>]"
            ]
          },
          "metadata": {},
          "execution_count": 120
        },
        {
          "output_type": "display_data",
          "data": {
            "text/plain": [
              "<Figure size 432x288 with 1 Axes>"
            ],
            "image/png": "[encoded data removed]"
          },
          "metadata": {
            "needs_background": "light"
          }
        }
      ]
    },
    {
      "cell_type": "code",
      "source": [
        "X_test.shape"
      ],
      "metadata": {
        "colab": {
          "base_uri": "https://localhost:8080/"
        },
        "id": "r-bs3mDIPeIx",
        "outputId": "c12f2afb-6b90-46b4-a2dc-f03e62b8ddf0"
      },
      "execution_count": 121,
      "outputs": [
        {
          "output_type": "execute_result",
          "data": {
            "text/plain": [
              "(10000, 28, 28)"
            ]
          },
          "metadata": {},
          "execution_count": 121
        }
      ]
    },
    {
      "cell_type": "code",
      "source": [
        "model.predict(X_test[1]).reshape(1,28,28).argmax(axis=1)"
      ],
      "metadata": {
        "id": "QZgL7td-PYbV"
      },
      "execution_count": null,
      "outputs": []
    }
  ]
}