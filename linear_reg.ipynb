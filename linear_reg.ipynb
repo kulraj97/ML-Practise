{
  "nbformat": 4,
  "nbformat_minor": 0,
  "metadata": {
    "colab": {
      "name": "Untitled22.ipynb",
      "provenance": [],
      "authorship_tag": "ABX9TyOBvdyQFU9K2PISjM1GFJRK",
      "include_colab_link": true
    },
    "kernelspec": {
      "name": "python3",
      "display_name": "Python 3"
    },
    "language_info": {
      "name": "python"
    }
  },
  "cells": [
    {
      "cell_type": "markdown",
      "metadata": {
        "id": "view-in-github",
        "colab_type": "text"
      },
      "source": [
        "<a href=\"https://colab.research.google.com/github/kulraj97/ML-Practise/blob/main/linear_reg.ipynb\" target=\"_parent\"><img src=\"https://colab.research.google.com/assets/colab-badge.svg\" alt=\"Open In Colab\"/></a>"
      ]
    },
    {
      "cell_type": "code",
      "execution_count": 28,
      "metadata": {
        "id": "fv1TGjJRp5xw"
      },
      "outputs": [],
      "source": [
        "import numpy as np\n",
        "import matplotlib.pyplot as plt\n",
        "import pandas as pd"
      ]
    },
    {
      "cell_type": "code",
      "source": [
        "from google.colab import drive\n",
        "drive.mount('/content/gdrive')"
      ],
      "metadata": {
        "colab": {
          "base_uri": "https://localhost:8080/"
        },
        "id": "e5YpjzjkqLqI",
        "outputId": "34b92bed-145e-4f9c-c20c-4bc6a15c18d1"
      },
      "execution_count": 102,
      "outputs": [
        {
          "output_type": "stream",
          "name": "stdout",
          "text": [
            "Drive already mounted at /content/gdrive; to attempt to forcibly remount, call drive.mount(\"/content/gdrive\", force_remount=True).\n"
          ]
        }
      ]
    },
    {
      "cell_type": "code",
      "source": [
        "dt=pd.read_csv(\"/content/gdrive/MyDrive/placement.csv\")"
      ],
      "metadata": {
        "id": "krqHnKivqcMg"
      },
      "execution_count": 103,
      "outputs": []
    },
    {
      "cell_type": "code",
      "source": [
        "dt.sample(3)"
      ],
      "metadata": {
        "colab": {
          "base_uri": "https://localhost:8080/",
          "height": 143
        },
        "id": "10uIC_LQqg5C",
        "outputId": "2afae4f6-d3c6-41c6-e7f6-bf50ca8bf83e"
      },
      "execution_count": 104,
      "outputs": [
        {
          "output_type": "execute_result",
          "data": {
            "text/plain": [
              "     cgpa  package\n",
              "163  8.93     3.91\n",
              "144  6.17     2.42\n",
              "2    7.82     3.25"
            ],
            "text/html": [
              "\n",
              "  <div id=\"df-74af8b5f-4b79-4bb1-a520-3dfd20ba00bb\">\n",
              "    <div class=\"colab-df-container\">\n",
              "      <div>\n",
              "<style scoped>\n",
              "    .dataframe tbody tr th:only-of-type {\n",
              "        vertical-align: middle;\n",
              "    }\n",
              "\n",
              "    .dataframe tbody tr th {\n",
              "        vertical-align: top;\n",
              "    }\n",
              "\n",
              "    .dataframe thead th {\n",
              "        text-align: right;\n",
              "    }\n",
              "</style>\n",
              "<table border=\"1\" class=\"dataframe\">\n",
              "  <thead>\n",
              "    <tr style=\"text-align: right;\">\n",
              "      <th></th>\n",
              "      <th>cgpa</th>\n",
              "      <th>package</th>\n",
              "    </tr>\n",
              "  </thead>\n",
              "  <tbody>\n",
              "    <tr>\n",
              "      <th>163</th>\n",
              "      <td>8.93</td>\n",
              "      <td>3.91</td>\n",
              "    </tr>\n",
              "    <tr>\n",
              "      <th>144</th>\n",
              "      <td>6.17</td>\n",
              "      <td>2.42</td>\n",
              "    </tr>\n",
              "    <tr>\n",
              "      <th>2</th>\n",
              "      <td>7.82</td>\n",
              "      <td>3.25</td>\n",
              "    </tr>\n",
              "  </tbody>\n",
              "</table>\n",
              "</div>\n",
              "      <button class=\"colab-df-convert\" onclick=\"convertToInteractive('df-74af8b5f-4b79-4bb1-a520-3dfd20ba00bb')\"\n",
              "              title=\"Convert this dataframe to an interactive table.\"\n",
              "              style=\"display:none;\">\n",
              "        \n",
              "  <svg xmlns=\"http://www.w3.org/2000/svg\" height=\"24px\"viewBox=\"0 0 24 24\"\n",
              "       width=\"24px\">\n",
              "    <path d=\"M0 0h24v24H0V0z\" fill=\"none\"/>\n",
              "    <path d=\"M18.56 5.44l.94 2.06.94-2.06 2.06-.94-2.06-.94-.94-2.06-.94 2.06-2.06.94zm-11 1L8.5 8.5l.94-2.06 2.06-.94-2.06-.94L8.5 2.5l-.94 2.06-2.06.94zm10 10l.94 2.06.94-2.06 2.06-.94-2.06-.94-.94-2.06-.94 2.06-2.06.94z\"/><path d=\"M17.41 7.96l-1.37-1.37c-.4-.4-.92-.59-1.43-.59-.52 0-1.04.2-1.43.59L10.3 9.45l-7.72 7.72c-.78.78-.78 2.05 0 2.83L4 21.41c.39.39.9.59 1.41.59.51 0 1.02-.2 1.41-.59l7.78-7.78 2.81-2.81c.8-.78.8-2.07 0-2.86zM5.41 20L4 18.59l7.72-7.72 1.47 1.35L5.41 20z\"/>\n",
              "  </svg>\n",
              "      </button>\n",
              "      \n",
              "  <style>\n",
              "    .colab-df-container {\n",
              "      display:flex;\n",
              "      flex-wrap:wrap;\n",
              "      gap: 12px;\n",
              "    }\n",
              "\n",
              "    .colab-df-convert {\n",
              "      background-color: #E8F0FE;\n",
              "      border: none;\n",
              "      border-radius: 50%;\n",
              "      cursor: pointer;\n",
              "      display: none;\n",
              "      fill: #1967D2;\n",
              "      height: 32px;\n",
              "      padding: 0 0 0 0;\n",
              "      width: 32px;\n",
              "    }\n",
              "\n",
              "    .colab-df-convert:hover {\n",
              "      background-color: #E2EBFA;\n",
              "      box-shadow: 0px 1px 2px rgba(60, 64, 67, 0.3), 0px 1px 3px 1px rgba(60, 64, 67, 0.15);\n",
              "      fill: #174EA6;\n",
              "    }\n",
              "\n",
              "    [theme=dark] .colab-df-convert {\n",
              "      background-color: #3B4455;\n",
              "      fill: #D2E3FC;\n",
              "    }\n",
              "\n",
              "    [theme=dark] .colab-df-convert:hover {\n",
              "      background-color: #434B5C;\n",
              "      box-shadow: 0px 1px 3px 1px rgba(0, 0, 0, 0.15);\n",
              "      filter: drop-shadow(0px 1px 2px rgba(0, 0, 0, 0.3));\n",
              "      fill: #FFFFFF;\n",
              "    }\n",
              "  </style>\n",
              "\n",
              "      <script>\n",
              "        const buttonEl =\n",
              "          document.querySelector('#df-74af8b5f-4b79-4bb1-a520-3dfd20ba00bb button.colab-df-convert');\n",
              "        buttonEl.style.display =\n",
              "          google.colab.kernel.accessAllowed ? 'block' : 'none';\n",
              "\n",
              "        async function convertToInteractive(key) {\n",
              "          const element = document.querySelector('#df-74af8b5f-4b79-4bb1-a520-3dfd20ba00bb');\n",
              "          const dataTable =\n",
              "            await google.colab.kernel.invokeFunction('convertToInteractive',\n",
              "                                                     [key], {});\n",
              "          if (!dataTable) return;\n",
              "\n",
              "          const docLinkHtml = 'Like what you see? Visit the ' +\n",
              "            '<a target=\"_blank\" href=https://colab.research.google.com/notebooks/data_table.ipynb>data table notebook</a>'\n",
              "            + ' to learn more about interactive tables.';\n",
              "          element.innerHTML = '';\n",
              "          dataTable['output_type'] = 'display_data';\n",
              "          await google.colab.output.renderOutput(dataTable, element);\n",
              "          const docLink = document.createElement('div');\n",
              "          docLink.innerHTML = docLinkHtml;\n",
              "          element.appendChild(docLink);\n",
              "        }\n",
              "      </script>\n",
              "    </div>\n",
              "  </div>\n",
              "  "
            ]
          },
          "metadata": {},
          "execution_count": 104
        }
      ]
    },
    {
      "cell_type": "code",
      "source": [
        "x=dt[\"cgpa\"]\n",
        "y=dt[\"package\"]"
      ],
      "metadata": {
        "id": "SOnnjV2gz44h"
      },
      "execution_count": 105,
      "outputs": []
    },
    {
      "cell_type": "code",
      "source": [
        "dt.fillna(dt.mean(),inplace=True) #filling the nan/na values with mean"
      ],
      "metadata": {
        "id": "lal0owTbSOGN"
      },
      "execution_count": 106,
      "outputs": []
    },
    {
      "cell_type": "code",
      "source": [
        "dt.isnull().sum()"
      ],
      "metadata": {
        "colab": {
          "base_uri": "https://localhost:8080/"
        },
        "id": "gSVfO85vSlP-",
        "outputId": "fb6292a9-1864-47c2-8484-e01edd60ff45"
      },
      "execution_count": 107,
      "outputs": [
        {
          "output_type": "execute_result",
          "data": {
            "text/plain": [
              "cgpa       0\n",
              "package    0\n",
              "dtype: int64"
            ]
          },
          "metadata": {},
          "execution_count": 107
        }
      ]
    },
    {
      "cell_type": "code",
      "source": [
        "x.shape"
      ],
      "metadata": {
        "colab": {
          "base_uri": "https://localhost:8080/"
        },
        "id": "4Lei51577UGe",
        "outputId": "10f940be-d20e-4209-801f-ac5cd9cf3662"
      },
      "execution_count": 108,
      "outputs": [
        {
          "output_type": "execute_result",
          "data": {
            "text/plain": [
              "(200,)"
            ]
          },
          "metadata": {},
          "execution_count": 108
        }
      ]
    },
    {
      "cell_type": "code",
      "source": [
        "plt.scatter(dt[\"cgpa\"],dt[\"package\"])\n",
        "plt.show()"
      ],
      "metadata": {
        "colab": {
          "base_uri": "https://localhost:8080/",
          "height": 265
        },
        "id": "I-6MENoM-LvR",
        "outputId": "3abb764c-d3db-48bb-88a0-d36c8e5a73b5"
      },
      "execution_count": 109,
      "outputs": [
        {
          "output_type": "display_data",
          "data": {
            "text/plain": [
              "<Figure size 432x288 with 1 Axes>"
            ],
            "image/png": "[encoded data removed]"
          },
          "metadata": {
            "needs_background": "light"
          }
        }
      ]
    },
    {
      "cell_type": "code",
      "source": [
        "from sklearn.model_selection import train_test_split"
      ],
      "metadata": {
        "id": "l8lueRpy7nxu"
      },
      "execution_count": 110,
      "outputs": []
    },
    {
      "cell_type": "code",
      "source": [
        "x_train, x_test, y_train, y_test = train_test_split( x, y, test_size=0.3, random_state=0)"
      ],
      "metadata": {
        "id": "wQAuJ_VD8Qp1"
      },
      "execution_count": 111,
      "outputs": []
    },
    {
      "cell_type": "code",
      "source": [
        "X=x_train.values.reshape(-1,1)\n",
        "Y=y_train.values.reshape(-1,1)"
      ],
      "metadata": {
        "id": "OkjvMgxq8dPe"
      },
      "execution_count": 112,
      "outputs": []
    },
    {
      "cell_type": "code",
      "source": [
        "from sklearn.linear_model import LinearRegression"
      ],
      "metadata": {
        "id": "b2mix_tl8fZ7"
      },
      "execution_count": 113,
      "outputs": []
    },
    {
      "cell_type": "code",
      "source": [
        "lr=LinearRegression()"
      ],
      "metadata": {
        "id": "Ha3-di6e9360"
      },
      "execution_count": 114,
      "outputs": []
    },
    {
      "cell_type": "code",
      "source": [
        "lr.fit(X,Y)"
      ],
      "metadata": {
        "colab": {
          "base_uri": "https://localhost:8080/"
        },
        "id": "E1steSjp97Q4",
        "outputId": "8445aa98-298e-48bf-bcb2-60f81dffdc45"
      },
      "execution_count": 115,
      "outputs": [
        {
          "output_type": "execute_result",
          "data": {
            "text/plain": [
              "LinearRegression()"
            ]
          },
          "metadata": {},
          "execution_count": 115
        }
      ]
    },
    {
      "cell_type": "code",
      "source": [
        "x_test=x_test.values.reshape(-1,1)"
      ],
      "metadata": {
        "id": "Jsn7l31OTAPu"
      },
      "execution_count": 116,
      "outputs": []
    },
    {
      "cell_type": "code",
      "source": [
        "y_pred=lr.predict(x_test)"
      ],
      "metadata": {
        "id": "2jlC8EO_-AjB"
      },
      "execution_count": 117,
      "outputs": []
    },
    {
      "cell_type": "code",
      "source": [
        "y_pred[0]"
      ],
      "metadata": {
        "colab": {
          "base_uri": "https://localhost:8080/"
        },
        "id": "YGoHne3uS91k",
        "outputId": "00da2c80-482c-4ed8-c4f6-f115156d6533"
      },
      "execution_count": 118,
      "outputs": [
        {
          "output_type": "execute_result",
          "data": {
            "text/plain": [
              "array([2.98741886])"
            ]
          },
          "metadata": {},
          "execution_count": 118
        }
      ]
    },
    {
      "cell_type": "code",
      "source": [
        "m=lr.coef_"
      ],
      "metadata": {
        "id": "JUrW1SEtTVOh"
      },
      "execution_count": 119,
      "outputs": []
    },
    {
      "cell_type": "code",
      "source": [
        "c=lr.intercept_"
      ],
      "metadata": {
        "id": "ymmkNXjfT1cN"
      },
      "execution_count": 120,
      "outputs": []
    },
    {
      "cell_type": "code",
      "source": [
        "x_train=x_train.values"
      ],
      "metadata": {
        "id": "Y3ejTqNCVahN"
      },
      "execution_count": 121,
      "outputs": []
    },
    {
      "cell_type": "code",
      "source": [
        "x_test.shape"
      ],
      "metadata": {
        "colab": {
          "base_uri": "https://localhost:8080/"
        },
        "id": "X9zsKb9hV6Mt",
        "outputId": "2c61bd8e-ad11-40bf-d8c8-82c580d441a1"
      },
      "execution_count": 122,
      "outputs": [
        {
          "output_type": "execute_result",
          "data": {
            "text/plain": [
              "(60, 1)"
            ]
          },
          "metadata": {},
          "execution_count": 122
        }
      ]
    },
    {
      "cell_type": "code",
      "source": [
        "y_pred=m*x_train+c"
      ],
      "metadata": {
        "id": "T6_rJjWUVDzg"
      },
      "execution_count": 134,
      "outputs": []
    },
    {
      "cell_type": "code",
      "source": [
        "y_pred.shape"
      ],
      "metadata": {
        "colab": {
          "base_uri": "https://localhost:8080/"
        },
        "id": "VZPvGIdeaSmD",
        "outputId": "e8402bea-cf87-4b38-ee44-24ebd393d032"
      },
      "execution_count": 135,
      "outputs": [
        {
          "output_type": "execute_result",
          "data": {
            "text/plain": [
              "(1, 140)"
            ]
          },
          "metadata": {},
          "execution_count": 135
        }
      ]
    },
    {
      "cell_type": "code",
      "source": [
        "plt.scatter(x,y,color=\"red\")\n",
        "plt.plot(X,y_pred.T)\n",
        "plt.show()"
      ],
      "metadata": {
        "colab": {
          "base_uri": "https://localhost:8080/",
          "height": 265
        },
        "id": "T8HNX9k3VWMD",
        "outputId": "544844c8-4c97-4a8c-b998-7d21a4e0d6e0"
      },
      "execution_count": 140,
      "outputs": [
        {
          "output_type": "display_data",
          "data": {
            "text/plain": [
              "<Figure size 432x288 with 1 Axes>"
            ],
            "image/png": "[encoded data removed]"
          },
          "metadata": {
            "needs_background": "light"
          }
        }
      ]
    },
    {
      "cell_type": "code",
      "source": [
        "x_test.shape"
      ],
      "metadata": {
        "colab": {
          "base_uri": "https://localhost:8080/"
        },
        "id": "9fQEdg6udYYM",
        "outputId": "043e6fbe-3265-4d63-b04f-668312902f7d"
      },
      "execution_count": 150,
      "outputs": [
        {
          "output_type": "execute_result",
          "data": {
            "text/plain": [
              "(60, 1)"
            ]
          },
          "metadata": {},
          "execution_count": 150
        }
      ]
    },
    {
      "cell_type": "code",
      "source": [
        "y_pred2=m*x_test+c"
      ],
      "metadata": {
        "id": "5l5OSW_gd81E"
      },
      "execution_count": 154,
      "outputs": []
    },
    {
      "cell_type": "code",
      "source": [
        "y_test.values.reshape(-1,1)"
      ],
      "metadata": {
        "colab": {
          "base_uri": "https://localhost:8080/"
        },
        "id": "cKL7qINCeHJ2",
        "outputId": "630ebfd9-ff63-4dc6-f7f8-41cba1e8d898"
      },
      "execution_count": 155,
      "outputs": [
        {
          "output_type": "execute_result",
          "data": {
            "text/plain": [
              "array([[2.98],\n",
              "       [2.87],\n",
              "       [2.59],\n",
              "       [3.83],\n",
              "       [3.64],\n",
              "       [2.08],\n",
              "       [2.99],\n",
              "       [2.46],\n",
              "       [3.65],\n",
              "       [3.08],\n",
              "       [1.61],\n",
              "       [3.16],\n",
              "       [2.72],\n",
              "       [2.85],\n",
              "       [3.44],\n",
              "       [2.48],\n",
              "       [2.73],\n",
              "       [2.49],\n",
              "       [2.43],\n",
              "       [3.44],\n",
              "       [2.72],\n",
              "       [2.18],\n",
              "       [3.58],\n",
              "       [4.08],\n",
              "       [2.19],\n",
              "       [2.3 ],\n",
              "       [3.03],\n",
              "       [3.18],\n",
              "       [2.01],\n",
              "       [1.86],\n",
              "       [2.35],\n",
              "       [3.39],\n",
              "       [2.73],\n",
              "       [2.25],\n",
              "       [2.3 ],\n",
              "       [4.06],\n",
              "       [3.12],\n",
              "       [3.57],\n",
              "       [3.49],\n",
              "       [2.19],\n",
              "       [2.83],\n",
              "       [1.63],\n",
              "       [3.42],\n",
              "       [2.37],\n",
              "       [3.52],\n",
              "       [4.25],\n",
              "       [2.31],\n",
              "       [3.28],\n",
              "       [2.88],\n",
              "       [1.54],\n",
              "       [3.34],\n",
              "       [2.31],\n",
              "       [3.14],\n",
              "       [2.84],\n",
              "       [3.67],\n",
              "       [2.71],\n",
              "       [3.26],\n",
              "       [2.93],\n",
              "       [4.02],\n",
              "       [2.74]])"
            ]
          },
          "metadata": {},
          "execution_count": 155
        }
      ]
    },
    {
      "cell_type": "code",
      "source": [
        "y_pred=y_pred.reshape(-1,1)\n",
        "y_pred"
      ],
      "metadata": {
        "colab": {
          "base_uri": "https://localhost:8080/"
        },
        "id": "pJOx9DPGdngA",
        "outputId": "71d414a6-0fb7-4a07-e428-295c70737220"
      },
      "execution_count": 152,
      "outputs": [
        {
          "output_type": "execute_result",
          "data": {
            "text/plain": [
              "array([[2.65141478],\n",
              "       [3.08763061],\n",
              "       [3.74195435],\n",
              "       [3.30573852],\n",
              "       [3.57689971],\n",
              "       [3.55332048],\n",
              "       [2.9402604 ],\n",
              "       [4.16048575],\n",
              "       [4.35501443],\n",
              "       [3.38237103],\n",
              "       [3.13478908],\n",
              "       [3.08763061],\n",
              "       [3.10531503],\n",
              "       [2.85183827],\n",
              "       [2.53351861],\n",
              "       [2.68088882],\n",
              "       [3.47668797],\n",
              "       [3.45310873],\n",
              "       [2.09140798],\n",
              "       [2.88131231],\n",
              "       [2.58657189],\n",
              "       [2.47457053],\n",
              "       [3.55921529],\n",
              "       [2.98152406],\n",
              "       [3.47079316],\n",
              "       [2.63373036],\n",
              "       [3.50616201],\n",
              "       [3.35289699],\n",
              "       [2.22109376],\n",
              "       [3.14657869],\n",
              "       [3.41184508],\n",
              "       [2.03245989],\n",
              "       [3.54742567],\n",
              "       [3.87164014],\n",
              "       [2.36846397],\n",
              "       [3.70069069],\n",
              "       [3.04636695],\n",
              "       [2.38025359],\n",
              "       [2.89899674],\n",
              "       [3.95416746],\n",
              "       [2.40383282],\n",
              "       [3.18784235],\n",
              "       [4.5436483 ],\n",
              "       [2.95794482],\n",
              "       [2.33309512],\n",
              "       [3.71837512],\n",
              "       [2.8046798 ],\n",
              "       [3.23500082],\n",
              "       [3.68890107],\n",
              "       [2.95794482],\n",
              "       [3.19963197],\n",
              "       [4.1251169 ],\n",
              "       [3.9836415 ],\n",
              "       [1.72003504],\n",
              "       [2.98152406],\n",
              "       [3.19963197],\n",
              "       [2.54530823],\n",
              "       [3.51795163],\n",
              "       [2.49225495],\n",
              "       [3.18784235],\n",
              "       [3.17015793],\n",
              "       [2.78110057],\n",
              "       [3.38826584],\n",
              "       [3.83037648],\n",
              "       [3.58279452],\n",
              "       [2.98741886],\n",
              "       [3.27036967],\n",
              "       [4.22532865],\n",
              "       [4.23711826],\n",
              "       [3.39416065],\n",
              "       [2.86362789],\n",
              "       [3.35289699],\n",
              "       [1.40761019],\n",
              "       [2.72804729],\n",
              "       [3.0109981 ],\n",
              "       [3.61816337],\n",
              "       [3.24679044],\n",
              "       [2.56299265],\n",
              "       [2.56299265],\n",
              "       [2.79289018],\n",
              "       [3.25268525],\n",
              "       [1.92045853],\n",
              "       [2.94615521],\n",
              "       [2.78699538],\n",
              "       [3.37647622],\n",
              "       [1.91456372],\n",
              "       [1.97940661],\n",
              "       [2.15625087],\n",
              "       [2.40383282],\n",
              "       [2.82236423],\n",
              "       [2.33898993],\n",
              "       [2.8754175 ],\n",
              "       [2.06782874],\n",
              "       [3.97774669],\n",
              "       [2.46278091],\n",
              "       [2.71036287],\n",
              "       [2.71036287],\n",
              "       [3.5710049 ],\n",
              "       [3.2232112 ],\n",
              "       [2.39793802],\n",
              "       [2.33898993],\n",
              "       [2.50404457],\n",
              "       [3.67121665],\n",
              "       [3.96595707],\n",
              "       [2.89310193],\n",
              "       [2.60425631],\n",
              "       [2.99920848],\n",
              "       [2.98152406],\n",
              "       [4.38448848],\n",
              "       [2.23288338],\n",
              "       [3.11120984],\n",
              "       [2.79289018],\n",
              "       [2.18572491],\n",
              "       [3.12889427],\n",
              "       [3.81858686],\n",
              "       [3.3587918 ],\n",
              "       [1.59034925],\n",
              "       [3.48258278],\n",
              "       [4.1958546 ],\n",
              "       [3.18784235],\n",
              "       [3.73605954],\n",
              "       [2.49225495],\n",
              "       [3.22910601],\n",
              "       [3.21142159],\n",
              "       [2.54530823],\n",
              "       [3.27626448],\n",
              "       [2.97562925],\n",
              "       [3.55921529],\n",
              "       [1.68466619],\n",
              "       [2.30951589],\n",
              "       [3.66532184],\n",
              "       [2.42741206],\n",
              "       [2.93436559],\n",
              "       [3.79500763],\n",
              "       [3.05226176],\n",
              "       [2.7339421 ],\n",
              "       [3.75963878],\n",
              "       [3.09352542],\n",
              "       [2.33898993],\n",
              "       [2.98152406]])"
            ]
          },
          "metadata": {},
          "execution_count": 152
        }
      ]
    },
    {
      "cell_type": "code",
      "source": [
        "y_pred.shape\n"
      ],
      "metadata": {
        "colab": {
          "base_uri": "https://localhost:8080/"
        },
        "id": "IsMksKJRdzMS",
        "outputId": "63d55291-522a-4391-d088-739efdb7a6fb"
      },
      "execution_count": 153,
      "outputs": [
        {
          "output_type": "execute_result",
          "data": {
            "text/plain": [
              "(140, 1)"
            ]
          },
          "metadata": {},
          "execution_count": 153
        }
      ]
    },
    {
      "cell_type": "code",
      "source": [
        "from sklearn.metrics import r2_score as score"
      ],
      "metadata": {
        "id": "CrFN-y7hWQl3"
      },
      "execution_count": 145,
      "outputs": []
    },
    {
      "cell_type": "code",
      "source": [
        "score(y_test,y_pred2)"
      ],
      "metadata": {
        "colab": {
          "base_uri": "https://localhost:8080/"
        },
        "id": "9jQJ0XKOdGfS",
        "outputId": "1d8f1b4b-a3ed-415e-da18-52cefe7373e9"
      },
      "execution_count": 156,
      "outputs": [
        {
          "output_type": "execute_result",
          "data": {
            "text/plain": [
              "0.7509091646328012"
            ]
          },
          "metadata": {},
          "execution_count": 156
        }
      ]
    },
    {
      "cell_type": "code",
      "source": [
        ""
      ],
      "metadata": {
        "id": "zur9V9yAedIp"
      },
      "execution_count": null,
      "outputs": []
    }
  ]
}